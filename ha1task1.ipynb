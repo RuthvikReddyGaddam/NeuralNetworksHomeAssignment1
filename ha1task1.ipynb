{
 "cells": [
  {
   "cell_type": "markdown",
   "metadata": {},
   "source": [
    "# 1. Tensor Manipulations & Reshaping\n"
   ]
  },
  {
   "cell_type": "code",
   "execution_count": 78,
   "metadata": {},
   "outputs": [],
   "source": [
    "# import all necessary packages\n",
    "import tensorflow as tf"
   ]
  },
  {
   "cell_type": "code",
   "execution_count": 79,
   "metadata": {},
   "outputs": [
    {
     "name": "stdout",
     "output_type": "stream",
     "text": [
      "1. shape of random tensor (a): (4, 6), rank: 2\n",
      "2. shape of random tensor (a transpose): (3, 2, 4), rank: 3\n",
      "3. shape of large tensor: (3, 4), rank: 2\n",
      "4. shape of small tensor: (1, 4), rank: 2\n",
      "4(1). shape of tensor after addition of large and broadcasted small tensor: (3, 4), rank: 2\n"
     ]
    }
   ],
   "source": [
    "\n",
    "#random tensor following normal distribution of shape (4,6)\n",
    "a = tf.random.normal(shape=(4,6), mean=0, stddev=1)\n",
    "\n",
    "#reshaping the tensor to (2,3,4)\n",
    "a_rs = tf.reshape(a, (2,3,4))\n",
    "#transposing the tensor to (3,2,4) using the perm parameter\n",
    "a_T = tf.transpose(a_rs, perm=[1, 0, 2])\n",
    "\n",
    "#declaring a large and small tensor\n",
    "largeTensor = tf.random.normal((3,4), mean=0, stddev=1)\n",
    "smallTensor = tf.random.normal((1,4), mean=0, stddev=1)\n",
    "\n",
    "# adding the small and large tensors\n",
    "broadcastAdd = largeTensor + smallTensor\n",
    "\n",
    "\n",
    "# printing all obtained results\n",
    "print(f\"1. shape of random tensor (a): {a.shape}, rank: {tf.rank(a).numpy()}\" )\n",
    "print(f\"2. shape of random tensor (a transpose): {a_T.shape}, rank: {tf.rank(a_T).numpy()}\" )\n",
    "print(f\"3. shape of large tensor: {largeTensor.shape}, rank: {tf.rank(largeTensor).numpy()}\" )\n",
    "print(f\"4. shape of small tensor: {smallTensor.shape}, rank: {tf.rank(smallTensor).numpy()}\" )\n",
    "print(f\"4(1). shape of tensor after addition of large and broadcasted small tensor: {broadcastAdd.shape}, rank: {tf.rank(broadcastAdd).numpy()}\" )\n"
   ]
  },
  {
   "cell_type": "markdown",
   "metadata": {},
   "source": [
    "5. Broadcasting happens when you try to perform an operation like addition, multiplication, etc., on tensors with different shapes. TensorFlow automatically adjusts the shapes of the tensors to make them compatible for the operation.\n",
    "\n",
    "- The rules for broadcasting are:\n",
    "  - If the tensors have a different number of dimensions, pad the smaller tensor with ones on the left.\n",
    "  - If the dimensions are not the same, one of the dimensions must be 1 to allow the broadcasting.\n",
    "  - The tensor with dimension 1 in any axis will be stretched to match the corresponding dimension of the other tensor.\n",
    "  - In this case, the smaller tensor is repeated 2 more times along the rows to match the shape (3, 4).\n",
    "  - After broadcasting, both tensors have the same shape, and TensorFlow adds them element-wise.\n"
   ]
  },
  {
   "cell_type": "markdown",
   "metadata": {},
   "source": []
  }
 ],
 "metadata": {
  "kernelspec": {
   "display_name": "Python 3",
   "language": "python",
   "name": "python3"
  },
  "language_info": {
   "codemirror_mode": {
    "name": "ipython",
    "version": 3
   },
   "file_extension": ".py",
   "mimetype": "text/x-python",
   "name": "python",
   "nbconvert_exporter": "python",
   "pygments_lexer": "ipython3",
   "version": "3.12.8"
  }
 },
 "nbformat": 4,
 "nbformat_minor": 2
}
