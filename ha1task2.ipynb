{
 "cells": [
  {
   "cell_type": "markdown",
   "metadata": {},
   "source": [
    "# 2. Loss Functions & Hyperparameter Tuning\n"
   ]
  },
  {
   "cell_type": "code",
   "execution_count": null,
   "metadata": {},
   "outputs": [],
   "source": [
    "#import all necessary packages\n",
    "import tensorflow as tf\n",
    "import numpy as np\n",
    "import matplotlib.pyplot as plt"
   ]
  },
  {
   "cell_type": "code",
   "execution_count": 14,
   "metadata": {},
   "outputs": [
    {
     "name": "stdout",
     "output_type": "stream",
     "text": [
      "y_true: [0.3  1.   0.25 1.  ]\n",
      "y_pred: [0.1 0.9 0.3 0.7]\n",
      "Initial MSE Loss: 0.03562500327825546\n",
      "y_true: [[1 0]\n",
      " [0 1]\n",
      " [1 0]\n",
      " [0 1]]\n",
      "y_pred: [[1 0]\n",
      " [0 1]\n",
      " [0 1]\n",
      " [1 0]]\n",
      "Initial Categorical Cross-Entropy Loss: 0.8132616281509399\n",
      "y_true: [0.3  1.   0.25 1.  ]\n",
      "y_pred: [0.1 0.4 0.4 0.1]\n",
      "Modified MSE Loss: 0.30812498927116394\n",
      "y_true: [[1 0]\n",
      " [0 1]\n",
      " [1 0]\n",
      " [0 1]]\n",
      "y_pred: [[0 1]\n",
      " [0 1]\n",
      " [0 1]\n",
      " [1 0]]\n",
      "Modified Categorical Cross-Entropy Loss: 1.06326162815094\n"
     ]
    },
    {
     "data": {
      "image/png": "[encoded data removed]",
      "text/plain": [
       "<Figure size 640x480 with 1 Axes>"
      ]
     },
     "metadata": {},
     "output_type": "display_data"
    }
   ],
   "source": [
    "\n",
    "\n",
    "# Define true true label values and predicted label values\n",
    "y_true = np.array([0.3, 1, 0.25, 1]) \n",
    "y_pred = np.array([0.1, 0.9, 0.3, 0.7]) \n",
    "\n",
    "# Compute Mean Squared Error and Categorical Cross-Entropy losses \n",
    "mse_loss = tf.keras.losses.MeanSquaredError()\n",
    "mse_loss_val = mse_loss(y_true, y_pred)\n",
    "\n",
    "# create a one hot encoded y_true and y_pred to perform binary classification error calculation using categorical crossentropy\n",
    "categorical_crossentropy_loss = tf.keras.losses.CategoricalCrossentropy(from_logits=True)\n",
    "y_true_one_hot = np.array([[1, 0], [0, 1], [1, 0], [0, 1]])\n",
    "y_pred_one_hot = np.array([[1, 0], [0, 1], [0, 1], [1, 0]])\n",
    "cce_loss = categorical_crossentropy_loss(y_true_one_hot, y_pred_one_hot).numpy()\n",
    "\n",
    "# Print the loss values\n",
    "print(f\"y_true: {y_true}\")\n",
    "print(f\"y_pred: {y_pred}\")\n",
    "print(f\"Initial MSE Loss: {mse_loss_val}\")\n",
    "print(f\"y_true: {y_true_one_hot}\")\n",
    "print(f\"y_pred: {y_pred_one_hot}\")\n",
    "print(f\"Initial Categorical Cross-Entropy Loss: {cce_loss}\")\n",
    "\n",
    "# Modifying predictions slightly to check how loss values change\n",
    "y_pred_modified = np.array([0.1, 0.4, 0.4, 0.1]) \n",
    "y_pred_one_hot_modified = np.array([[0, 1], [0, 1], [0, 1], [1, 0]]) \n",
    "\n",
    "# recalculating loss values \n",
    "mse_loss_modified = mse_loss(y_true, y_pred_modified)\n",
    "cce_loss_modified = categorical_crossentropy_loss(y_true_one_hot, y_pred_one_hot_modified).numpy()\n",
    "\n",
    "# print modified loss values\n",
    "print(f\"y_true: {y_true}\")\n",
    "print(f\"y_pred: {y_pred_modified}\")\n",
    "print(f\"Modified MSE Loss: {mse_loss_modified}\")\n",
    "print(f\"y_true: {y_true_one_hot}\")\n",
    "print(f\"y_pred: {y_pred_one_hot_modified}\")\n",
    "print(f\"Modified Categorical Cross-Entropy Loss: {cce_loss_modified}\")\n",
    "\n",
    "# Plot loss function values using Matplotlib\n",
    "loss_values = [mse_loss_val, cce_loss, mse_loss_modified, cce_loss_modified]\n",
    "loss_labels = ['MSE Initial', 'CCE Initial', 'MSE Modified', 'CCE Modified']\n",
    "\n",
    "plt.bar(loss_labels, loss_values)\n",
    "plt.title('Comparison of MSE and Categorical Cross-Entropy Loss')\n",
    "plt.ylabel('Loss Value')\n",
    "plt.show()"
   ]
  }
 ],
 "metadata": {
  "kernelspec": {
   "display_name": "Python 3",
   "language": "python",
   "name": "python3"
  },
  "language_info": {
   "codemirror_mode": {
    "name": "ipython",
    "version": 3
   },
   "file_extension": ".py",
   "mimetype": "text/x-python",
   "name": "python",
   "nbconvert_exporter": "python",
   "pygments_lexer": "ipython3",
   "version": "3.12.8"
  }
 },
 "nbformat": 4,
 "nbformat_minor": 2
}
